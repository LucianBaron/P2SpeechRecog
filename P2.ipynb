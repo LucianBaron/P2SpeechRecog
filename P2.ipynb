{
 "cells": [
  {
   "cell_type": "code",
   "execution_count": 3,
   "metadata": {
    "id": "1xhikKhIFHDc"
   },
   "outputs": [],
   "source": [
    "# import librosa\n",
    "# import librosa.display\n",
    "import numpy as np\n",
    "import matplotlib.pyplot as plt\n",
    "import os\n",
    "from scipy.io import wavfile as wav\n",
    "import random\n",
    "import IPython.display as ipd\n",
    "import scipy\n",
    "from python_speech_features import mfcc\n",
    "from python_speech_features import logfbank\n",
    "import pandas as pd\n",
    "from sklearn.model_selection import train_test_split\n",
    "import pickle\n",
    "from tensorflow import keras\n",
    "from tensorflow.keras import layers"
   ]
  },
  {
   "cell_type": "code",
   "execution_count": 3,
   "metadata": {
    "colab": {
     "base_uri": "https://localhost:8080/"
    },
    "id": "rLASblCOS6pQ",
    "outputId": "deb500bd-f207-46d0-fe08-41225392fd5e"
   },
   "outputs": [
    {
     "name": "stdout",
     "output_type": "stream",
     "text": [
      "Looking in indexes: https://pypi.org/simple, https://us-python.pkg.dev/colab-wheels/public/simple/\n",
      "Collecting python_speech_features\n",
      "  Downloading python_speech_features-0.6.tar.gz (5.6 kB)\n",
      "  Preparing metadata (setup.py) ... \u001b[?25l\u001b[?25hdone\n",
      "Building wheels for collected packages: python_speech_features\n",
      "  Building wheel for python_speech_features (setup.py) ... \u001b[?25l\u001b[?25hdone\n",
      "  Created wheel for python_speech_features: filename=python_speech_features-0.6-py3-none-any.whl size=5886 sha256=e91a20458e81e2535bdd6b6fcd090dea5b1b588f5ce19cdf46b43036abe521fa\n",
      "  Stored in directory: /root/.cache/pip/wheels/5a/9e/68/30bad9462b3926c29e315df16b562216d12bdc215f4d240294\n",
      "Successfully built python_speech_features\n",
      "Installing collected packages: python_speech_features\n",
      "Successfully installed python_speech_features-0.6\n"
     ]
    }
   ],
   "source": [
    "# pip install python_speech_features"
   ]
  },
  {
   "cell_type": "code",
   "execution_count": 4,
   "metadata": {
    "id": "ts_cXIHNO9DF"
   },
   "outputs": [],
   "source": [
    "import tensorflow as tf"
   ]
  },
  {
   "cell_type": "code",
   "execution_count": 5,
   "metadata": {
    "id": "l_isNnwNuP8E"
   },
   "outputs": [],
   "source": [
    "from keras.models import Sequential\n",
    "from keras.layers import Dense, Flatten, Activation, Dropout, LSTM\n",
    "from keras.layers import Conv2D, MaxPooling2D, GlobalMaxPooling2D\n",
    "from keras.optimizers import SGD\n",
    "import os"
   ]
  },
  {
   "cell_type": "code",
   "execution_count": null,
   "metadata": {
    "colab": {
     "base_uri": "https://localhost:8080/"
    },
    "id": "mw-vTcrzgalh",
    "outputId": "8d4621ac-9288-4d62-eb55-ebf945fbb10c"
   },
   "outputs": [
    {
     "name": "stdout",
     "output_type": "stream",
     "text": [
      "C:\\Programe Info\\MLP_test_speech\\dataset\n"
     ]
    }
   ],
   "source": [
    "path_data = \"dataset\"\n",
    "path_npy = './Npy/'\n",
    "print(path_data)"
   ]
  },
  {
   "cell_type": "code",
   "execution_count": 8,
   "metadata": {
    "colab": {
     "base_uri": "https://localhost:8080/",
     "height": 328
    },
    "id": "J2reMldOgeYi",
    "outputId": "69bf9315-ccf3-42f3-ebba-d5019ebe4f5d"
   },
   "outputs": [
    {
     "ename": "MessageError",
     "evalue": "ignored",
     "output_type": "error",
     "traceback": [
      "\u001b[0;31m---------------------------------------------------------------------------\u001b[0m",
      "\u001b[0;31mMessageError\u001b[0m                              Traceback (most recent call last)",
      "\u001b[0;32m<ipython-input-8-d5df0069828e>\u001b[0m in \u001b[0;36m<cell line: 2>\u001b[0;34m()\u001b[0m\n\u001b[1;32m      1\u001b[0m \u001b[0;32mfrom\u001b[0m \u001b[0mgoogle\u001b[0m\u001b[0;34m.\u001b[0m\u001b[0mcolab\u001b[0m \u001b[0;32mimport\u001b[0m \u001b[0mdrive\u001b[0m\u001b[0;34m\u001b[0m\u001b[0;34m\u001b[0m\u001b[0m\n\u001b[0;32m----> 2\u001b[0;31m \u001b[0mdrive\u001b[0m\u001b[0;34m.\u001b[0m\u001b[0mmount\u001b[0m\u001b[0;34m(\u001b[0m\u001b[0;34m'/content/drive'\u001b[0m\u001b[0;34m)\u001b[0m\u001b[0;34m\u001b[0m\u001b[0;34m\u001b[0m\u001b[0m\n\u001b[0m",
      "\u001b[0;32m/usr/local/lib/python3.10/dist-packages/google/colab/drive.py\u001b[0m in \u001b[0;36mmount\u001b[0;34m(mountpoint, force_remount, timeout_ms, readonly)\u001b[0m\n\u001b[1;32m    101\u001b[0m \u001b[0;32mdef\u001b[0m \u001b[0mmount\u001b[0m\u001b[0;34m(\u001b[0m\u001b[0mmountpoint\u001b[0m\u001b[0;34m,\u001b[0m \u001b[0mforce_remount\u001b[0m\u001b[0;34m=\u001b[0m\u001b[0;32mFalse\u001b[0m\u001b[0;34m,\u001b[0m \u001b[0mtimeout_ms\u001b[0m\u001b[0;34m=\u001b[0m\u001b[0;36m120000\u001b[0m\u001b[0;34m,\u001b[0m \u001b[0mreadonly\u001b[0m\u001b[0;34m=\u001b[0m\u001b[0;32mFalse\u001b[0m\u001b[0;34m)\u001b[0m\u001b[0;34m:\u001b[0m\u001b[0;34m\u001b[0m\u001b[0;34m\u001b[0m\u001b[0m\n\u001b[1;32m    102\u001b[0m   \u001b[0;34m\"\"\"Mount your Google Drive at the specified mountpoint path.\"\"\"\u001b[0m\u001b[0;34m\u001b[0m\u001b[0;34m\u001b[0m\u001b[0m\n\u001b[0;32m--> 103\u001b[0;31m   return _mount(\n\u001b[0m\u001b[1;32m    104\u001b[0m       \u001b[0mmountpoint\u001b[0m\u001b[0;34m,\u001b[0m\u001b[0;34m\u001b[0m\u001b[0;34m\u001b[0m\u001b[0m\n\u001b[1;32m    105\u001b[0m       \u001b[0mforce_remount\u001b[0m\u001b[0;34m=\u001b[0m\u001b[0mforce_remount\u001b[0m\u001b[0;34m,\u001b[0m\u001b[0;34m\u001b[0m\u001b[0;34m\u001b[0m\u001b[0m\n",
      "\u001b[0;32m/usr/local/lib/python3.10/dist-packages/google/colab/drive.py\u001b[0m in \u001b[0;36m_mount\u001b[0;34m(mountpoint, force_remount, timeout_ms, ephemeral, readonly)\u001b[0m\n\u001b[1;32m    130\u001b[0m   )\n\u001b[1;32m    131\u001b[0m   \u001b[0;32mif\u001b[0m \u001b[0mephemeral\u001b[0m\u001b[0;34m:\u001b[0m\u001b[0;34m\u001b[0m\u001b[0;34m\u001b[0m\u001b[0m\n\u001b[0;32m--> 132\u001b[0;31m     _message.blocking_request(\n\u001b[0m\u001b[1;32m    133\u001b[0m         \u001b[0;34m'request_auth'\u001b[0m\u001b[0;34m,\u001b[0m \u001b[0mrequest\u001b[0m\u001b[0;34m=\u001b[0m\u001b[0;34m{\u001b[0m\u001b[0;34m'authType'\u001b[0m\u001b[0;34m:\u001b[0m \u001b[0;34m'dfs_ephemeral'\u001b[0m\u001b[0;34m}\u001b[0m\u001b[0;34m,\u001b[0m \u001b[0mtimeout_sec\u001b[0m\u001b[0;34m=\u001b[0m\u001b[0;32mNone\u001b[0m\u001b[0;34m\u001b[0m\u001b[0;34m\u001b[0m\u001b[0m\n\u001b[1;32m    134\u001b[0m     )\n",
      "\u001b[0;32m/usr/local/lib/python3.10/dist-packages/google/colab/_message.py\u001b[0m in \u001b[0;36mblocking_request\u001b[0;34m(request_type, request, timeout_sec, parent)\u001b[0m\n\u001b[1;32m    174\u001b[0m       \u001b[0mrequest_type\u001b[0m\u001b[0;34m,\u001b[0m \u001b[0mrequest\u001b[0m\u001b[0;34m,\u001b[0m \u001b[0mparent\u001b[0m\u001b[0;34m=\u001b[0m\u001b[0mparent\u001b[0m\u001b[0;34m,\u001b[0m \u001b[0mexpect_reply\u001b[0m\u001b[0;34m=\u001b[0m\u001b[0;32mTrue\u001b[0m\u001b[0;34m\u001b[0m\u001b[0;34m\u001b[0m\u001b[0m\n\u001b[1;32m    175\u001b[0m   )\n\u001b[0;32m--> 176\u001b[0;31m   \u001b[0;32mreturn\u001b[0m \u001b[0mread_reply_from_input\u001b[0m\u001b[0;34m(\u001b[0m\u001b[0mrequest_id\u001b[0m\u001b[0;34m,\u001b[0m \u001b[0mtimeout_sec\u001b[0m\u001b[0;34m)\u001b[0m\u001b[0;34m\u001b[0m\u001b[0;34m\u001b[0m\u001b[0m\n\u001b[0m",
      "\u001b[0;32m/usr/local/lib/python3.10/dist-packages/google/colab/_message.py\u001b[0m in \u001b[0;36mread_reply_from_input\u001b[0;34m(message_id, timeout_sec)\u001b[0m\n\u001b[1;32m    101\u001b[0m     ):\n\u001b[1;32m    102\u001b[0m       \u001b[0;32mif\u001b[0m \u001b[0;34m'error'\u001b[0m \u001b[0;32min\u001b[0m \u001b[0mreply\u001b[0m\u001b[0;34m:\u001b[0m\u001b[0;34m\u001b[0m\u001b[0;34m\u001b[0m\u001b[0m\n\u001b[0;32m--> 103\u001b[0;31m         \u001b[0;32mraise\u001b[0m \u001b[0mMessageError\u001b[0m\u001b[0;34m(\u001b[0m\u001b[0mreply\u001b[0m\u001b[0;34m[\u001b[0m\u001b[0;34m'error'\u001b[0m\u001b[0;34m]\u001b[0m\u001b[0;34m)\u001b[0m\u001b[0;34m\u001b[0m\u001b[0;34m\u001b[0m\u001b[0m\n\u001b[0m\u001b[1;32m    104\u001b[0m       \u001b[0;32mreturn\u001b[0m \u001b[0mreply\u001b[0m\u001b[0;34m.\u001b[0m\u001b[0mget\u001b[0m\u001b[0;34m(\u001b[0m\u001b[0;34m'data'\u001b[0m\u001b[0;34m,\u001b[0m \u001b[0;32mNone\u001b[0m\u001b[0;34m)\u001b[0m\u001b[0;34m\u001b[0m\u001b[0;34m\u001b[0m\u001b[0m\n\u001b[1;32m    105\u001b[0m \u001b[0;34m\u001b[0m\u001b[0m\n",
      "\u001b[0;31mMessageError\u001b[0m: Error: credential propagation was unsuccessful"
     ]
    }
   ],
   "source": [
    "# from google.colab import drive\n",
    "# drive.mount('/content/drive')"
   ]
  },
  {
   "cell_type": "code",
   "execution_count": 9,
   "metadata": {
    "id": "Jwn6XlZOheer"
   },
   "outputs": [],
   "source": [
    "def display(stft, word):\n",
    "    # Plot spectrogram\n",
    "    fig, ax = plt.subplots()\n",
    "    img = librosa.display.specshow(librosa.amplitude_to_db(stft, ref=np.max),  y_axis='log', x_axis='time', ax=ax)\n",
    "    ax.set_title(f'Power spectrogram of {word}')\n",
    "    fig.colorbar(img, ax=ax, format=\"%+2.0f dB\")\n",
    "    plt.show()\n",
    "\n",
    "\n",
    "def extract_stft(audio, genre, nfft=2048, hop_length=1024, window='hann'):\n",
    "    # Compute spectrogram. You can change the parameters to see if you can obtain a better performance\n",
    "    stft = librosa.stft(audio, n_fft=nfft, hop_length=hop_length, window=window, win_length=nfft)\n",
    "    stft = np.abs(stft)  # keep only the magnitude of the spectrum\n",
    "\n",
    "    display(stft, genre)  # Display spectrogram for a file in each genre\n",
    "\n",
    "    return stft\n",
    "\n",
    "def read_audio(path_file):\n",
    "    audio, sr = librosa.load(path_file, sr=None, mono=True)\n",
    "    if len(audio) < sr:\n",
    "        audio = np.pad(audio, (0, sr - len(audio)))  # pad with zeros last samples to 30s\n",
    "    else:\n",
    "        audio = audio[: sr]\n",
    "\n",
    "    audio = audio / np.max(np.abs(audio)) # Normalize to [-1, 1]\n",
    "\n",
    "    return audio\n",
    "\n",
    "def make_input_data(path_file, folder):\n",
    "    audio = read_audio(path_file)\n",
    "    stft = extract_stft(audio, folder)\n",
    "\n",
    "    return stft.T  # transpose the stft to get [time, freqs] instead. You can try [freqs, time] if you like\n"
   ]
  },
  {
   "cell_type": "code",
   "execution_count": 10,
   "metadata": {
    "id": "L5YxD1mqhfUb"
   },
   "outputs": [],
   "source": [
    "def parse_dataset(path_data):\n",
    "    x_train, x_val, y_train, y_val = [], [], [], []  # lists for input-output data\n",
    "\n",
    "    folders = sorted(os.listdir(path_data))\n",
    "    for i, folder in enumerate(folders):\n",
    "        path_folder = os.path.join(path_data, folder)\n",
    "        files = os.listdir(path_folder)\n",
    "        random.shuffle(files)\n",
    "        files_val = random.sample(files, k=20)  # make 80-20 train-val split. k should be given as parameter. You can change this to see if you can obtain better performance\n",
    "        files_train = [file for file in files if file not in files_val]\n",
    "        for file in files:\n",
    "            path_file = os.path.join(path_data, folder, file)\n",
    "            stft = make_input_data(path_file, folder)\n",
    "        # for file in files_train:\n",
    "        #     path_file = os.path.join(path_data, folder, file)\n",
    "        #     stft = make_input_data(path_file, folder)\n",
    "        #     x_train.append(stft)\n",
    "        #     y_train.append(i)\n",
    "        #\n",
    "        # for file in files_val:\n",
    "        #     path_file = os.path.join(path_data, folder, file)\n",
    "        #     stft = make_input_data(path_file, folder)\n",
    "        #     x_val.append(stft)\n",
    "        #     y_val.append(i)\n",
    "\n",
    "    # Convert lists to np array and save them as .npy\n",
    "    # x_train = np.asarray(x_train)\n",
    "    # x_val = np.asarray(x_val)\n",
    "    # y_train = np.asarray(y_train)\n",
    "    # y_val = np.asarray(y_val)\n",
    "\n",
    "    # print(f'Shapes for x_train {x_train.shape} x_val {x_val.shape} y_train {y_train.shape} y_val {y_val.shape}')\n",
    "    # np.save(os.path.join(path_npy, 'x_train.npy'), x_train)\n",
    "    # np.save(os.path.join(path_npy, 'x_val.npy'), x_val)\n",
    "    # np.save(os.path.join(path_npy, 'y_train.npy'), y_train)\n",
    "    # np.save(os.path.join(path_npy, 'y_val.npy'), y_val)"
   ]
  },
  {
   "cell_type": "code",
   "execution_count": 12,
   "metadata": {
    "colab": {
     "base_uri": "https://localhost:8080/",
     "height": 287
    },
    "id": "how-k7yLhhsB",
    "outputId": "9e7bf915-7a59-402a-b89f-91927228e994"
   },
   "outputs": [
    {
     "ename": "FileNotFoundError",
     "evalue": "ignored",
     "output_type": "error",
     "traceback": [
      "\u001b[0;31m---------------------------------------------------------------------------\u001b[0m",
      "\u001b[0;31mFileNotFoundError\u001b[0m                         Traceback (most recent call last)",
      "\u001b[0;32m<ipython-input-12-79d4772bbb74>\u001b[0m in \u001b[0;36m<cell line: 1>\u001b[0;34m()\u001b[0m\n\u001b[0;32m----> 1\u001b[0;31m \u001b[0mparse_dataset\u001b[0m\u001b[0;34m(\u001b[0m\u001b[0mpath_data\u001b[0m\u001b[0;34m)\u001b[0m\u001b[0;34m\u001b[0m\u001b[0;34m\u001b[0m\u001b[0m\n\u001b[0m",
      "\u001b[0;32m<ipython-input-10-66a59bba71d9>\u001b[0m in \u001b[0;36mparse_dataset\u001b[0;34m(path_data)\u001b[0m\n\u001b[1;32m      2\u001b[0m     \u001b[0mx_train\u001b[0m\u001b[0;34m,\u001b[0m \u001b[0mx_val\u001b[0m\u001b[0;34m,\u001b[0m \u001b[0my_train\u001b[0m\u001b[0;34m,\u001b[0m \u001b[0my_val\u001b[0m \u001b[0;34m=\u001b[0m \u001b[0;34m[\u001b[0m\u001b[0;34m]\u001b[0m\u001b[0;34m,\u001b[0m \u001b[0;34m[\u001b[0m\u001b[0;34m]\u001b[0m\u001b[0;34m,\u001b[0m \u001b[0;34m[\u001b[0m\u001b[0;34m]\u001b[0m\u001b[0;34m,\u001b[0m \u001b[0;34m[\u001b[0m\u001b[0;34m]\u001b[0m  \u001b[0;31m# lists for input-output data\u001b[0m\u001b[0;34m\u001b[0m\u001b[0;34m\u001b[0m\u001b[0m\n\u001b[1;32m      3\u001b[0m \u001b[0;34m\u001b[0m\u001b[0m\n\u001b[0;32m----> 4\u001b[0;31m     \u001b[0mfolders\u001b[0m \u001b[0;34m=\u001b[0m \u001b[0msorted\u001b[0m\u001b[0;34m(\u001b[0m\u001b[0mos\u001b[0m\u001b[0;34m.\u001b[0m\u001b[0mlistdir\u001b[0m\u001b[0;34m(\u001b[0m\u001b[0mpath_data\u001b[0m\u001b[0;34m)\u001b[0m\u001b[0;34m)\u001b[0m\u001b[0;34m\u001b[0m\u001b[0;34m\u001b[0m\u001b[0m\n\u001b[0m\u001b[1;32m      5\u001b[0m     \u001b[0;32mfor\u001b[0m \u001b[0mi\u001b[0m\u001b[0;34m,\u001b[0m \u001b[0mfolder\u001b[0m \u001b[0;32min\u001b[0m \u001b[0menumerate\u001b[0m\u001b[0;34m(\u001b[0m\u001b[0mfolders\u001b[0m\u001b[0;34m)\u001b[0m\u001b[0;34m:\u001b[0m\u001b[0;34m\u001b[0m\u001b[0;34m\u001b[0m\u001b[0m\n\u001b[1;32m      6\u001b[0m         \u001b[0mpath_folder\u001b[0m \u001b[0;34m=\u001b[0m \u001b[0mos\u001b[0m\u001b[0;34m.\u001b[0m\u001b[0mpath\u001b[0m\u001b[0;34m.\u001b[0m\u001b[0mjoin\u001b[0m\u001b[0;34m(\u001b[0m\u001b[0mpath_data\u001b[0m\u001b[0;34m,\u001b[0m \u001b[0mfolder\u001b[0m\u001b[0;34m)\u001b[0m\u001b[0;34m\u001b[0m\u001b[0;34m\u001b[0m\u001b[0m\n",
      "\u001b[0;31mFileNotFoundError\u001b[0m: [Errno 2] No such file or directory: './drive/MyDrive/ML/dataset'"
     ]
    }
   ],
   "source": [
    "parse_dataset(path_data)"
   ]
  },
  {
   "cell_type": "code",
   "execution_count": null,
   "metadata": {
    "id": "adfaTj_qoyLK"
   },
   "outputs": [],
   "source": [
    "wav_pathname = \"./drive/MyDrive/ML/dataset/down/004ae714_nohash_0.wav\"\n",
    "#wav_pathname = librosa.example(\"brahms\")\n",
    "y, sr = librosa.load(wav_pathname, sr = None, mono = True)\n",
    "S = librosa.feature.melspectrogram(y = y, sr=sr, n_mels=128)\n",
    "\n",
    "log_S = librosa.amplitude_to_db(S, ref=np.max)\n",
    "\n",
    "plt.figure(figsize=(12,4))\n",
    "\n",
    "librosa.display.specshow(log_S, sr=sr, x_axis='time', y_axis='mel')\n",
    "\n",
    "plt.title('mel power spectrogram')\n",
    "\n",
    "plt.colorbar(format='%+02.0f dB')\n",
    "\n",
    "plt.tight_layout()"
   ]
  },
  {
   "cell_type": "code",
   "execution_count": null,
   "metadata": {
    "id": "Xe9N38y6uVv8"
   },
   "outputs": [],
   "source": [
    "S_rot=np.rot90(S,3)\n",
    "\n",
    "print(len(S_rot))\n",
    "print(len(S_rot[0]))"
   ]
  },
  {
   "cell_type": "code",
   "execution_count": null,
   "metadata": {
    "id": "EPeHdTahu2MJ"
   },
   "outputs": [],
   "source": [
    "mfcc1 = librosa.feature.mfcc(S=log_S, n_mfcc=13)\n",
    "\n",
    "delta_mfcc  = librosa.feature.delta(mfcc1)\n",
    "delta2_mfcc = librosa.feature.delta(mfcc1, order=2)\n",
    "\n",
    "plt.figure(figsize=(12, 6))\n",
    "\n",
    "plt.subplot(3,1,1)\n",
    "librosa.display.specshow(mfcc1)\n",
    "plt.ylabel('MFCC')\n",
    "plt.colorbar()\n",
    "\n",
    "plt.subplot(3,1,2)\n",
    "librosa.display.specshow(delta_mfcc)\n",
    "plt.ylabel('MFCC-$\\Delta$')\n",
    "plt.colorbar()\n",
    "\n",
    "plt.subplot(3,1,3)\n",
    "librosa.display.specshow(delta2_mfcc, sr=sr, x_axis='time')\n",
    "plt.ylabel('MFCC-$\\Delta^2$')\n",
    "plt.colorbar()\n",
    "\n",
    "plt.tight_layout()\n",
    "\n",
    "M = np.vstack([mfcc1, delta_mfcc, delta2_mfcc])"
   ]
  },
  {
   "cell_type": "code",
   "execution_count": null,
   "metadata": {
    "id": "eVdN5xgwwSN3"
   },
   "outputs": [],
   "source": [
    "chroma = librosa.feature.chroma_stft(S = log_S)\n",
    "\n",
    "plt.figure(figsize=(12, 6))\n",
    "\n",
    "plt.subplot(2,1,1)\n",
    "librosa.display.specshow(log_S)\n",
    "plt.ylabel('Hz')\n",
    "plt.colorbar()\n",
    "\n",
    "plt.subplot(2,1,2)\n",
    "librosa.display.specshow(chroma, x_axis='time')\n",
    "plt.ylabel('Pitch class')\n",
    "plt.colorbar()"
   ]
  },
  {
   "cell_type": "code",
   "execution_count": null,
   "metadata": {
    "id": "86HCo54rx6YS"
   },
   "outputs": [],
   "source": [
    "#y_third = librosa.effects.pitch_shift(y = y, sr = sr, n_steps=4)\n",
    "S = np.abs(librosa.stft(y))\n",
    "pitches, magnitudes = librosa.piptrack(S = S, sr=sr, threshold = 1, ref = np.mean)\n",
    "plt.figure(figsize=(12, 6))\n",
    "plt.subplot(3,1,1)\n",
    "librosa.display.waveshow(y = y, sr = sr)\n",
    "# for i in range(1025):\n",
    "#   for j in range(32):\n",
    "#     if pitches[i][j] != 0:\n",
    "#       print(i, j)\n",
    "print(magnitudes.shape)\n",
    "print(pitches)\n",
    "plt.subplot(3, 1, 2), plt.plot(pitches);\n",
    "plt.subplot(3, 1, 3), plt.plot(magnitudes);"
   ]
  },
  {
   "cell_type": "markdown",
   "metadata": {
    "id": "TY-MoBff21di"
   },
   "source": [
    "------------------ De aici in jos"
   ]
  },
  {
   "cell_type": "markdown",
   "metadata": {
    "id": "RhU_OawPXFVK"
   },
   "source": [
    "rate = frecventa de esantionare\n",
    "sig1= semnalul nostru; are val amplitudinilor\n"
   ]
  },
  {
   "cell_type": "code",
   "execution_count": 1,
   "metadata": {
    "collapsed": false
   },
   "outputs": [
    {
     "name": "stderr",
     "output_type": "stream",
     "text": [
      "C:\\Users\\lucia\\AppData\\Local\\Programs\\Python\\Python311\\Lib\\site-packages\\pydub\\utils.py:170: RuntimeWarning: Couldn't find ffmpeg or avconv - defaulting to ffmpeg, but may not work\n",
      "  warn(\"Couldn't find ffmpeg or avconv - defaulting to ffmpeg, but may not work\", RuntimeWarning)\n"
     ]
    }
   ],
   "source": [
    "import tensorflow as tf\n",
    "from keras.models import Sequential\n",
    "from keras.layers import Dense, Flatten, Activation, Dropout, LSTM\n",
    "from keras.layers import Conv2D, MaxPooling2D, GlobalMaxPooling2D\n",
    "from keras.optimizers import SGD\n",
    "import os\n",
    "import numpy as np\n",
    "import matplotlib.pyplot as plt\n",
    "from scipy.io import wavfile as wav\n",
    "import random\n",
    "from python_speech_features import mfcc\n",
    "from sklearn.model_selection import train_test_split\n",
    "import datetime\n",
    "from scipy.io.wavfile import write\n",
    "from pydub import AudioSegment as am\n",
    "import sounddevice as sd"
   ]
  },
  {
   "cell_type": "code",
   "execution_count": 2,
   "metadata": {
    "collapsed": false
   },
   "outputs": [],
   "source": [
    "from matplotlib import cm\n",
    "\n",
    "\n",
    "def plot_mfcc(mfcc_feat):\n",
    "    ig, ax = plt.subplots()\n",
    "    mfcc_data= np.swapaxes(mfcc_feat, 0 ,1)\n",
    "    cax = ax.imshow(mfcc_data, interpolation='nearest', cmap=cm.coolwarm, origin='lower', aspect='auto')\n",
    "    ax.set_title('MFCC')\n",
    "    #Showing mfcc_data\n",
    "    plt.show()\n",
    "    #Showing mfcc_feat\n",
    "    # plt.plot(mfcc_feat)\n",
    "    plt.show()"
   ]
  },
  {
   "cell_type": "code",
   "execution_count": null,
   "metadata": {
    "colab": {
     "base_uri": "https://localhost:8080/",
     "height": 467
    },
    "id": "bwEVsmkVQ8It",
    "outputId": "ef7c81b7-61f7-40c0-c1cb-27f8a1ea73fc"
   },
   "outputs": [
    {
     "name": "stdout",
     "output_type": "stream",
     "text": [
      "(13, 99)\n"
     ]
    },
    {
     "data": {
      "image/png": "[encoded data removed]",
      "text/plain": [
       "<Figure size 640x480 with 1 Axes>"
      ]
     },
     "metadata": {},
     "output_type": "display_data"
    }
   ],
   "source": [
    "(rate,sig1) = wav.read('dataset/down/00b01445_nohash_0.wav')\n",
    "N = sig1.shape[0]\n",
    "L = N / rate\n",
    "f, ax = plt.subplots()\n",
    "ax.plot(np.arange(N) / rate, sig1)\n",
    "ax.set_xlabel('Time [ms]')\n",
    "ax.set_ylabel('Amplitude [Base-ten signed range (per sample)]')\n",
    "mfcc_feat = mfcc(sig1,rate,nfft=400, winfunc=np.hamming).T\n",
    "\n",
    "# plot_mfcc(mfcc_feat)\n",
    "plt.imshow(mfcc_feat)\n",
    "print(mfcc_feat.shape)"
   ]
  },
  {
   "cell_type": "code",
   "execution_count": 4,
   "metadata": {
    "collapsed": false
   },
   "outputs": [
    {
     "data": {
      "text/plain": [
       "[<matplotlib.lines.Line2D at 0x202ce9a5390>]"
      ]
     },
     "execution_count": 4,
     "metadata": {},
     "output_type": "execute_result"
    },
    {
     "data": {
      "image/png": "[encoded data removed]",
      "text/plain": [
       "<Figure size 640x480 with 1 Axes>"
      ]
     },
     "metadata": {},
     "output_type": "display_data"
    }
   ],
   "source": [
    "plt.plot(sig1)"
   ]
  },
  {
   "cell_type": "markdown",
   "metadata": {
    "id": "2MEN89iETt8E"
   },
   "source": [
    "# New Section"
   ]
  },
  {
   "cell_type": "code",
   "execution_count": 5,
   "metadata": {
    "collapsed": false
   },
   "outputs": [],
   "source": [
    "def read_audio(rate, sig):\n",
    "    # audio, sr = librosa.load(path_file, sr=None, mono=True)\n",
    "\n",
    "    # Make sure that audio has 1s\n",
    "    if len(sig) < rate:\n",
    "        sig = np.pad(sig, (0,rate - len(sig)))  # pad with zeros last samples to 1s\n",
    "    else:\n",
    "        sig = sig[:rate]\n",
    "\n",
    "    sig = sig / np.max(np.abs(sig)) # Normalize to [-1, 1]\n",
    "\n",
    "    return sig"
   ]
  },
  {
   "cell_type": "code",
   "execution_count": null,
   "metadata": {
    "id": "PEeizFXjcgYT"
   },
   "outputs": [
    {
     "name": "stdout",
     "output_type": "stream",
     "text": [
      "down\n",
      "left\n",
      "right\n",
      "stop\n",
      "up\n"
     ]
    }
   ],
   "source": [
    "folders = os.listdir('dataset/')\n",
    "data = []\n",
    "y = []\n",
    "ctr=0\n",
    "for i, directory in enumerate(folders):\n",
    "  soundfile = os.listdir('dataset/' + directory)\n",
    "  print(directory)\n",
    "  for file in soundfile:\n",
    "    (rate,sig) = wav.read('dataset/' + directory + '/' + file)\n",
    "    # print(sig.shape[0]/rate)\n",
    "    sig = read_audio(rate, sig)\n",
    "    # print(sig.shape[0]/rate)\n",
    "    data.append(sig)\n",
    "    y.append(i)"
   ]
  },
  {
   "cell_type": "code",
   "execution_count": 54,
   "metadata": {
    "collapsed": false
   },
   "outputs": [
    {
     "name": "stdout",
     "output_type": "stream",
     "text": [
      "(16000,)\n"
     ]
    }
   ],
   "source": [
    "print(sig.shape)"
   ]
  },
  {
   "cell_type": "code",
   "execution_count": 7,
   "metadata": {
    "id": "PSftMLolds-d"
   },
   "outputs": [],
   "source": [
    "size = 99  #nr de frame uri\n",
    "# X=[]\n",
    "# X = np.array(X)\n",
    "mfcc_max=np.zeros(13)\n",
    "mfcc_max_matrix = np.empty((len(data), 13))\n",
    "for i in range(len(data)):\n",
    "    mfcc_feat = mfcc(data[i],rate,nfft=400, winfunc=np.hamming)\n",
    "    mfcc_feat = np.array(mfcc_feat)\n",
    "    # print(mfcc_feat.shape)\n",
    "\n",
    "    for j in range(13):\n",
    "        mfcc_max[j] = np.max(mfcc_feat[:,j])\n",
    "    mfcc_max_matrix[i,:] = mfcc_max\n",
    "    # X.append(mfcc_feat)\n",
    "\n",
    "\n"
   ]
  },
  {
   "cell_type": "code",
   "execution_count": 8,
   "metadata": {
    "collapsed": false
   },
   "outputs": [
    {
     "name": "stdout",
     "output_type": "stream",
     "text": [
      "[  4.27181765  74.98607624  97.55971245 108.76915997  84.95088902\n",
      " 136.8257098  156.66309264 127.83537466 108.57641777 132.21633399\n",
      " 111.35107788 117.66554354  90.91877903]\n",
      "(19091, 99, 13)\n"
     ]
    }
   ],
   "source": [
    "X=[]\n",
    "for i in range(13):\n",
    "    mfcc_max[i] = np.max(mfcc_max_matrix[:,i])\n",
    "print(mfcc_max)\n",
    "for i in range(len(data)):\n",
    "    mfcc_feat = np.array(mfcc(data[i],rate,nfft=400, winfunc=np.hamming))\n",
    "\n",
    "    for j in range(13):\n",
    "        mfcc_feat[:,j] = mfcc_feat[:,j] / mfcc_max[j]\n",
    "    X.append(mfcc_feat)\n",
    "\n",
    "X = np.array(X)\n",
    "print(X.shape)"
   ]
  },
  {
   "cell_type": "code",
   "execution_count": 9,
   "metadata": {
    "collapsed": false
   },
   "outputs": [
    {
     "name": "stdout",
     "output_type": "stream",
     "text": [
      "(99, 13)\n",
      "TOT:\n",
      "[[-13.11436336 -25.21173686 -11.51278503 ... -20.82914297  -6.90577894\n",
      "  -11.44618359]\n",
      " [-13.45372383 -24.45583621 -18.41765473 ... -15.8022567   -5.65425376\n",
      "   13.21575562]\n",
      " [-12.4285647  -30.01740102 -14.33541566 ... -13.27946642 -11.5105492\n",
      "   -2.82833953]\n",
      " ...\n",
      " [ -9.48831295 -27.51101502  -5.75167937 ...  -6.60133665  -5.00422994\n",
      "   -5.86845621]\n",
      " [ -9.89477372 -22.01108795  -0.45461406 ...   2.35316532  -1.60642\n",
      "   -6.42970507]\n",
      " [-10.25252197 -23.81784509  -5.87293065 ...   2.49124384   0.10026746\n",
      "   13.58476094]]\n",
      "PRIMA COLOANA:\n",
      "[-21.07897872 -24.81896889 -18.00579644  -8.58687998 -20.24467758\n",
      " -21.08744597 -17.38090684 -18.82456731 -20.60395332 -20.96390112\n",
      " -19.46188669 -21.94116346 -15.15803143 -34.65120673 -35.98441185\n",
      " -42.00465113 -24.0911853  -20.43320503 -25.34206079 -22.37656958\n",
      " -30.65775617 -30.49408861 -34.14365853 -37.80942962 -21.94245655\n",
      " -27.07745845 -24.82784698 -11.71906946  -7.82632231 -12.77214225\n",
      "  -5.39974721 -15.2893523  -10.13157035  -7.05780184   2.32052875\n",
      " -10.84075241 -10.59190038  -5.37537616 -26.89248374 -26.08359837\n",
      " -19.09288272 -24.74509241 -16.88498243  -5.204769   -11.51717896\n",
      " -21.71648914 -11.41177214 -32.03288919 -12.21454634 -16.6477979\n",
      " -20.28901392 -16.12818972 -17.60931235 -14.53206846 -10.61754131\n",
      " -10.48347774 -11.45333438  -9.03513757  -5.94946089 -18.00931547\n",
      " -31.15406072 -24.01252123 -19.93233158 -26.85954368 -25.43172464\n",
      " -29.38437318 -36.50471992 -39.81151191 -37.0896789  -44.42643833\n",
      " -37.53676542 -38.96500297 -36.73029996 -30.48926144 -15.73621111\n",
      "  -8.77847224  -1.3207298   -9.84692829  -4.5011221   -0.84607034\n",
      "  -1.77110751  -5.68957571  -4.71192069  -8.38329592 -10.78975726\n",
      "  -3.13107038   0.49570154  -1.81879555   4.50020969  -5.67307614\n",
      " -11.38747933 -21.09806361 -22.08750894 -25.31236536 -28.45827638\n",
      " -18.12212376 -17.38003142 -13.53330497 -19.96773059]\n",
      "IMPARTIT\n",
      "[-0.24813135 -0.29215667 -0.21195536 -0.10108052 -0.23831037 -0.24823102\n",
      " -0.20459947 -0.22159353 -0.24253958 -0.24677671 -0.22909574 -0.25828056\n",
      " -0.17843288 -0.40789693 -0.42359076 -0.49445805 -0.28358956 -0.24052962\n",
      " -0.29831425 -0.26340595 -0.360888   -0.35896138 -0.40192232 -0.44507397\n",
      " -0.25829578 -0.3187425  -0.29226118 -0.13795111 -0.09212761 -0.15034736\n",
      " -0.06356316 -0.17997872 -0.11926385 -0.08308097  0.02731612 -0.12761199\n",
      " -0.12468263 -0.06327628 -0.31656507 -0.30704327 -0.22475201 -0.29128703\n",
      " -0.19876169 -0.06126798 -0.13557455 -0.25563581 -0.13433376 -0.37707539\n",
      " -0.14378362 -0.19596967 -0.23883227 -0.1898531  -0.20728815 -0.17106435\n",
      " -0.12498446 -0.12340633 -0.13482301 -0.10635719 -0.07003412 -0.21199679\n",
      " -0.36673025 -0.28266357 -0.23463358 -0.31617731 -0.29936973 -0.34589836\n",
      " -0.42971557 -0.4686415  -0.43660142 -0.52296614 -0.4418643  -0.45867681\n",
      " -0.43237099 -0.35890456 -0.18523892 -0.10333585 -0.01554698 -0.11591319\n",
      " -0.05298499 -0.00995952 -0.0208486  -0.06697488 -0.05546641 -0.09868403\n",
      " -0.12701171 -0.03685742  0.00583515 -0.02140996  0.05297425 -0.06678066\n",
      " -0.13404779 -0.24835601 -0.26000327 -0.29796469 -0.3349968  -0.21332471\n",
      " -0.20458916 -0.1593074  -0.23505028]\n"
     ]
    }
   ],
   "source": [
    "mfcc_test = np.array(mfcc(data[0],rate,nfft=400, winfunc=np.hamming))\n",
    "print(mfcc_test.shape)\n",
    "print(\"TOT:\")\n",
    "print(mfcc_test)\n",
    "print(\"PRIMA COLOANA:\")\n",
    "print(mfcc_test[:,4])\n",
    "print(\"IMPARTIT\")\n",
    "print(mfcc_test[:,4]/mfcc_max[4])"
   ]
  },
  {
   "cell_type": "code",
   "execution_count": 9,
   "metadata": {
    "collapsed": false
   },
   "outputs": [],
   "source": [
    "Y = np.array(y)"
   ]
  },
  {
   "cell_type": "code",
   "execution_count": 11,
   "metadata": {
    "collapsed": false
   },
   "outputs": [
    {
     "name": "stdout",
     "output_type": "stream",
     "text": [
      "-3.1360841350585233\n"
     ]
    }
   ],
   "source": [
    "print(np.min(mfcc_feat))"
   ]
  },
  {
   "cell_type": "code",
   "execution_count": 12,
   "metadata": {
    "id": "v6iXwjXee8pN"
   },
   "outputs": [],
   "source": [
    "# Y = np.array(y)\n",
    "# sf = []\n",
    "# folders = os.listdir('C:/Programe Info/MLP_test_speech/dataset/')\n",
    "# for i in folders:\n",
    "#   soundfile = os.listdir('C:/Programe Info/MLP_test_speech/dataset/' + i)\n",
    "#   for j in soundfile:\n",
    "#     sf.append('C:/Programe Info/MLP_test_speech/dataset/' + i + '/' + j)\n",
    "#\n",
    "# sf = np.array(sf)\n",
    "# y = [i for i in soundfile]\n",
    "# YY = pd.get_dummies(y)"
   ]
  },
  {
   "cell_type": "code",
   "execution_count": 13,
   "metadata": {
    "colab": {
     "base_uri": "https://localhost:8080/"
    },
    "id": "KUf2VCva_LvS",
    "outputId": "022ae11a-a059-4d73-8912-50915f81a9f3"
   },
   "outputs": [],
   "source": [
    "# print(y)\n",
    "# print(YY)"
   ]
  },
  {
   "cell_type": "code",
   "execution_count": 10,
   "metadata": {
    "id": "mU2eT5e-uYbr"
   },
   "outputs": [
    {
     "name": "stdout",
     "output_type": "stream",
     "text": [
      "Model: \"sequential\"\n",
      "_________________________________________________________________\n",
      " Layer (type)                Output Shape              Param #   \n",
      "=================================================================\n",
      " conv2d (Conv2D)             (None, 97, 11, 8)         80        \n",
      "                                                                 \n",
      " conv2d_1 (Conv2D)           (None, 95, 9, 8)          584       \n",
      "                                                                 \n",
      " max_pooling2d (MaxPooling2D  (None, 47, 4, 8)         0         \n",
      " )                                                               \n",
      "                                                                 \n",
      " dropout (Dropout)           (None, 47, 4, 8)          0         \n",
      "                                                                 \n",
      " flatten (Flatten)           (None, 1504)              0         \n",
      "                                                                 \n",
      " dense (Dense)               (None, 64)                96320     \n",
      "                                                                 \n",
      " dropout_1 (Dropout)         (None, 64)                0         \n",
      "                                                                 \n",
      " activation (Activation)     (None, 64)                0         \n",
      "                                                                 \n",
      " dense_1 (Dense)             (None, 64)                4160      \n",
      "                                                                 \n",
      " dropout_2 (Dropout)         (None, 64)                0         \n",
      "                                                                 \n",
      " activation_1 (Activation)   (None, 64)                0         \n",
      "                                                                 \n",
      " dense_2 (Dense)             (None, 5)                 325       \n",
      "                                                                 \n",
      " activation_2 (Activation)   (None, 5)                 0         \n",
      "                                                                 \n",
      "=================================================================\n",
      "Total params: 101,469\n",
      "Trainable params: 101,469\n",
      "Non-trainable params: 0\n",
      "_________________________________________________________________\n"
     ]
    }
   ],
   "source": [
    "model = Sequential()\n",
    "model.add(Conv2D(8, (3, 3), activation='relu', input_shape=(size, 13, 1)))\n",
    "model.add(Conv2D(8, (3, 3), activation='relu'))\n",
    "model.add(MaxPooling2D(pool_size=(2, 2)))\n",
    "model.add(Dropout(0.1))\n",
    "model.add(Flatten(input_shape=(size, 13,1)))\n",
    "model.add(Dense(64))\n",
    "model.add(Dropout(0.16))\n",
    "model.add(Activation('relu'))\n",
    "model.add(Dense(64))\n",
    "model.add(Dropout(0.12))\n",
    "model.add(Activation('relu'))\n",
    "model.add(Dense(5))\n",
    "model.add(Activation('softmax'))\n",
    "model.summary()"
   ]
  },
  {
   "cell_type": "code",
   "execution_count": 11,
   "metadata": {
    "colab": {
     "base_uri": "https://localhost:8080/"
    },
    "id": "eablIIKUvHIf",
    "outputId": "97ef21ab-3c39-43e0-9383-57bf1cd76286"
   },
   "outputs": [
    {
     "name": "stderr",
     "output_type": "stream",
     "text": [
      "C:\\Users\\lucia\\AppData\\Local\\Programs\\Python\\Python311\\Lib\\site-packages\\keras\\optimizers\\legacy\\gradient_descent.py:114: UserWarning: The `lr` argument is deprecated, use `learning_rate` instead.\n",
      "  super().__init__(name, **kwargs)\n"
     ]
    }
   ],
   "source": [
    "sgd = SGD(lr=0.01, decay=1e-6, momentum=0.9, nesterov=True)\n",
    "model.compile(loss='CategoricalCrossentropy', optimizer=sgd, metrics=['accuracy'])"
   ]
  },
  {
   "cell_type": "code",
   "execution_count": 12,
   "metadata": {
    "id": "kM48nNFEvSsN"
   },
   "outputs": [],
   "source": [
    "x_train, x_test, y_train, y_test = train_test_split(X, Y, test_size=0.25)\n",
    "x_train = x_train.reshape(-1, size, 13, 1)\n",
    "x_test = x_test.reshape(-1, size, 13, 1)"
   ]
  },
  {
   "cell_type": "code",
   "execution_count": 13,
   "metadata": {
    "colab": {
     "base_uri": "https://localhost:8080/"
    },
    "id": "jRJ-XnOzBr6v",
    "outputId": "277639fb-0e7b-4f41-ce2e-11b3c910d423"
   },
   "outputs": [
    {
     "name": "stdout",
     "output_type": "stream",
     "text": [
      "(14318,)\n",
      "(4773,)\n",
      "(14318, 99, 13, 1)\n",
      "(4773, 99, 13, 1)\n",
      "(14318, 5)\n",
      "(4773, 5)\n"
     ]
    }
   ],
   "source": [
    "print(y_train.shape)\n",
    "print(y_test.shape)\n",
    "print(x_train.shape)\n",
    "print(x_test.shape)\n",
    "\n",
    "y_train_one_hot = tf.one_hot(y_train, depth = 5).numpy()\n",
    "y_test_one_hot = tf.one_hot(y_test, depth = 5).numpy()\n",
    "print(y_train_one_hot.shape)\n",
    "print(y_test_one_hot.shape)\n",
    "# for i in y_train:\n",
    "#   #if i is None:\n",
    "#   print(type(i))\n"
   ]
  },
  {
   "cell_type": "code",
   "execution_count": 14,
   "metadata": {
    "colab": {
     "base_uri": "https://localhost:8080/"
    },
    "id": "j7bcYON6Jwgn",
    "outputId": "039a4ecf-1f0a-4d7e-b449-b583c6181a55"
   },
   "outputs": [
    {
     "name": "stdout",
     "output_type": "stream",
     "text": [
      "(14318, 5)\n",
      "(14318, 99, 13, 1)\n"
     ]
    }
   ],
   "source": [
    "print(y_train_one_hot.shape)\n",
    "print(x_train.shape)"
   ]
  },
  {
   "cell_type": "code",
   "execution_count": 15,
   "metadata": {
    "collapsed": false
   },
   "outputs": [
    {
     "name": "stdout",
     "output_type": "stream",
     "text": [
      "(4773, 99, 13, 1)\n",
      "(4773,)\n"
     ]
    }
   ],
   "source": [
    "print(x_test.shape)\n",
    "print(y_test.shape)"
   ]
  },
  {
   "cell_type": "code",
   "execution_count": 16,
   "metadata": {
    "collapsed": false
   },
   "outputs": [
    {
     "name": "stdout",
     "output_type": "stream",
     "text": [
      "[[0. 0. 0. 0. 1.]\n",
      " [1. 0. 0. 0. 0.]\n",
      " [0. 0. 0. 0. 1.]\n",
      " ...\n",
      " [1. 0. 0. 0. 0.]\n",
      " [1. 0. 0. 0. 0.]\n",
      " [0. 0. 0. 1. 0.]]\n"
     ]
    }
   ],
   "source": [
    "print(y_train_one_hot)"
   ]
  },
  {
   "cell_type": "code",
   "execution_count": null,
   "metadata": {
    "collapsed": false
   },
   "outputs": [],
   "source": [
    "checkpoint_filepath = \"modele/model-{epoch:02d}-{val_accuracy:.2f}.hdf5\"\n",
    "model_checkpoint_callback = tf.keras.callbacks.ModelCheckpoint(filepath=checkpoint_filepath, monitor='val_accuracy', mode='max', save_best_only=True)"
   ]
  },
  {
   "cell_type": "code",
   "execution_count": null,
   "metadata": {
    "collapsed": false
   },
   "outputs": [],
   "source": [
    "tensorboard_callback = tf.keras.callbacks.TensorBoard(log_dir=\"logs/fit0/\" + datetime.datetime.now().strftime(\"%Y%m%d-%H%M%S\"),\n",
    "                                                      histogram_freq=1 )"
   ]
  },
  {
   "cell_type": "code",
   "execution_count": 36,
   "metadata": {
    "colab": {
     "base_uri": "https://localhost:8080/",
     "height": 235
    },
    "id": "Ng5DvFWMvclq",
    "outputId": "a69b489e-2ae9-4fa0-c9d3-bbc0fca3b57e"
   },
   "outputs": [
    {
     "name": "stdout",
     "output_type": "stream",
     "text": [
      "Epoch 1/18\n",
      "448/448 [==============================] - 6s 13ms/step - loss: 0.1807 - accuracy: 0.9351 - val_loss: 0.2467 - val_accuracy: 0.9185\n",
      "Epoch 2/18\n",
      "448/448 [==============================] - 4s 10ms/step - loss: 0.1662 - accuracy: 0.9425 - val_loss: 0.2504 - val_accuracy: 0.9187\n",
      "Epoch 3/18\n",
      "448/448 [==============================] - 4s 10ms/step - loss: 0.1635 - accuracy: 0.9430 - val_loss: 0.2912 - val_accuracy: 0.9089\n",
      "Epoch 4/18\n",
      "448/448 [==============================] - 4s 10ms/step - loss: 0.1607 - accuracy: 0.9454 - val_loss: 0.2694 - val_accuracy: 0.9179\n",
      "Epoch 5/18\n",
      "448/448 [==============================] - 4s 10ms/step - loss: 0.1528 - accuracy: 0.9480 - val_loss: 0.2476 - val_accuracy: 0.9242\n",
      "Epoch 6/18\n",
      "448/448 [==============================] - 4s 10ms/step - loss: 0.1579 - accuracy: 0.9458 - val_loss: 0.2567 - val_accuracy: 0.9179\n",
      "Epoch 7/18\n",
      "448/448 [==============================] - 4s 10ms/step - loss: 0.1424 - accuracy: 0.9501 - val_loss: 0.2952 - val_accuracy: 0.9114\n",
      "Epoch 8/18\n",
      "448/448 [==============================] - 4s 10ms/step - loss: 0.1430 - accuracy: 0.9503 - val_loss: 0.3173 - val_accuracy: 0.9110\n",
      "Epoch 9/18\n",
      "448/448 [==============================] - 5s 10ms/step - loss: 0.1442 - accuracy: 0.9495 - val_loss: 0.2872 - val_accuracy: 0.9143\n",
      "Epoch 10/18\n",
      "448/448 [==============================] - 5s 10ms/step - loss: 0.1460 - accuracy: 0.9506 - val_loss: 0.2525 - val_accuracy: 0.9208\n",
      "Epoch 11/18\n",
      "448/448 [==============================] - 5s 10ms/step - loss: 0.1268 - accuracy: 0.9557 - val_loss: 0.2885 - val_accuracy: 0.9107\n",
      "Epoch 12/18\n",
      "448/448 [==============================] - 5s 11ms/step - loss: 0.1364 - accuracy: 0.9525 - val_loss: 0.2843 - val_accuracy: 0.9147\n",
      "Epoch 13/18\n",
      "448/448 [==============================] - 5s 12ms/step - loss: 0.1357 - accuracy: 0.9517 - val_loss: 0.2783 - val_accuracy: 0.9164\n",
      "Epoch 14/18\n",
      "448/448 [==============================] - 5s 12ms/step - loss: 0.1283 - accuracy: 0.9566 - val_loss: 0.2843 - val_accuracy: 0.9156\n",
      "Epoch 15/18\n",
      "448/448 [==============================] - 5s 12ms/step - loss: 0.1299 - accuracy: 0.9569 - val_loss: 0.2847 - val_accuracy: 0.9147\n",
      "Epoch 16/18\n",
      "448/448 [==============================] - 5s 12ms/step - loss: 0.1214 - accuracy: 0.9580 - val_loss: 0.2896 - val_accuracy: 0.9097\n",
      "Epoch 17/18\n",
      "448/448 [==============================] - 6s 12ms/step - loss: 0.1188 - accuracy: 0.9591 - val_loss: 0.2841 - val_accuracy: 0.9189\n",
      "Epoch 18/18\n",
      "448/448 [==============================] - 6s 14ms/step - loss: 0.1179 - accuracy: 0.9595 - val_loss: 0.3087 - val_accuracy: 0.9070\n"
     ]
    },
    {
     "data": {
      "text/plain": [
       "<keras.callbacks.History at 0x2037b5c8e10>"
      ]
     },
     "execution_count": 36,
     "metadata": {},
     "output_type": "execute_result"
    }
   ],
   "source": [
    "model.fit(\n",
    "    x_train,\n",
    "    y_train_one_hot,\n",
    "    epochs=18,\n",
    "    batch_size=32,\n",
    "    validation_data=(x_test, y_test_one_hot),\n",
    "    #shuffle=True\n",
    "    callbacks=[model_checkpoint_callback, tensorboard_callback]\n",
    "    )\n"
   ]
  },
  {
   "cell_type": "code",
   "execution_count": null,
   "metadata": {
    "collapsed": false
   },
   "outputs": [
    {
     "data": {
      "text/plain": [
       "<_io.BufferedRandom name='C:/Programe Info/MLP_test_speech/TESTARE_VOICE/Recording2.wav'>"
      ]
     },
     "execution_count": 53,
     "metadata": {},
     "output_type": "execute_result"
    }
   ],
   "source": [
    "filepath = 'TESTARE_VOICE/Recording.wav'\n",
    "sound = am.from_file(filepath, format='wav', frame_rate=48000)\n",
    "sound = sound.set_frame_rate(16000)\n",
    "sound.export('TESTARE_VOICE/Recording2.wav', format='wav')"
   ]
  },
  {
   "cell_type": "code",
   "execution_count": null,
   "metadata": {
    "collapsed": false
   },
   "outputs": [],
   "source": [
    "stereo_audio = am.from_file(\n",
    "    'TESTARE_VOICE/Recording2.wav', format='wav')\n",
    "mono_audios = stereo_audio.split_to_mono()\n",
    "mono_left = mono_audios[0].export(\n",
    "    'TESTARE_VOICE/Recording2_adev.wav', format='wav')"
   ]
  },
  {
   "cell_type": "code",
   "execution_count": null,
   "metadata": {
    "collapsed": false
   },
   "outputs": [
    {
     "name": "stdout",
     "output_type": "stream",
     "text": [
      "(16000,)\n"
     ]
    }
   ],
   "source": [
    "(rateT,sigT) = wav.read('TESTARE_VOICE/test0.wav')\n",
    " # print(sig.shape[0]/rate)\n",
    "\n",
    "sigT = read_audio(rateT, sigT)\n",
    "print(sigT.shape)\n",
    "    # print(sig.shape[0]/rate)\n",
    "mfcc_featT = mfcc(sigT,rateT,nfft=400, winfunc=np.blackman)\n",
    "mfcc_featT = np.array(mfcc_featT)\n",
    "for i in range(13):\n",
    "    mfcc_featT[:, i] = mfcc_featT[:, i] / mfcc_max[i]\n"
   ]
  },
  {
   "cell_type": "code",
   "execution_count": 53,
   "metadata": {
    "collapsed": false
   },
   "outputs": [
    {
     "data": {
      "text/plain": [
       "[Text(0.5, 0, 'Sample number'), Text(0, 0.5, 'Amplitude')]"
      ]
     },
     "execution_count": 53,
     "metadata": {},
     "output_type": "execute_result"
    },
    {
     "data": {
      "image/png": "[encoded data removed]",
      "text/plain": [
       "<Figure size 640x480 with 2 Axes>"
      ]
     },
     "metadata": {},
     "output_type": "display_data"
    }
   ],
   "source": [
    "# plt.xlabel(\"Sample number\")\n",
    "# plt.ylabel(\"Amplitude\")\n",
    "# plt.plot(data[0])\n",
    "fig, ax = plt.subplots(2)\n",
    "ax[0].plot(data[0])\n",
    "ax[0].set(xlabel=\"Sample number\", ylabel=\"Amplitude\")\n",
    "ax[1].plot(data[3918])\n",
    "ax[1].set(xlabel=\"Sample number\", ylabel=\"Amplitude\")"
   ]
  },
  {
   "cell_type": "code",
   "execution_count": 33,
   "metadata": {
    "collapsed": false
   },
   "outputs": [
    {
     "name": "stdout",
     "output_type": "stream",
     "text": [
      "1/1 [==============================] - 0s 25ms/step\n"
     ]
    },
    {
     "data": {
      "text/plain": [
       "array([[9.9973541e-09, 1.9641238e-01, 8.0358601e-01, 3.9260706e-10,\n",
       "        1.6677876e-06]], dtype=float32)"
      ]
     },
     "execution_count": 33,
     "metadata": {},
     "output_type": "execute_result"
    }
   ],
   "source": [
    "mfcc_featT = mfcc_featT.reshape(-1, size, 13, 1)\n",
    "y_predict = model.predict(mfcc_featT)\n",
    "# model.evaluate(intrare, iesire) #probabilitati --> one hot\n",
    "#poze cu up, down...."
   ]
  },
  {
   "cell_type": "code",
   "execution_count": 23,
   "metadata": {
    "collapsed": false
   },
   "outputs": [],
   "source": [
    "\n",
    "import wavio as wv\n"
   ]
  },
  {
   "cell_type": "code",
   "execution_count": 31,
   "metadata": {
    "collapsed": false
   },
   "outputs": [
    {
     "name": "stdout",
     "output_type": "stream",
     "text": [
      "ACUM INCEPE\n",
      "S-A TERMINAT\n"
     ]
    }
   ],
   "source": [
    "#voice activity detection\n",
    "#threshold pe semnal\n",
    "freq = 16000\n",
    "duration = 1\n",
    "recording = sd.rec(int(duration * freq),\n",
    "                   samplerate=freq, channels=1)\n",
    "print(\"ACUM INCEPE\")\n",
    "sd.wait()\n",
    "print(\"S-A TERMINAT\")\n",
    "write(\"TESTARE_VOICE/test0.wav\", freq, recording)\n"
   ]
  },
  {
   "cell_type": "code",
   "execution_count": 118,
   "metadata": {
    "collapsed": false
   },
   "outputs": [],
   "source": [
    "from playsound import playsound"
   ]
  },
  {
   "cell_type": "code",
   "execution_count": 87,
   "metadata": {
    "collapsed": false
   },
   "outputs": [
    {
     "name": "stdout",
     "output_type": "stream",
     "text": [
      "[-0.00024973 -0.0005827  -0.00108216 ...  0.00203946  0.00178973\n",
      "  0.00158162]\n"
     ]
    }
   ],
   "source": [
    "print(data[14315])"
   ]
  },
  {
   "cell_type": "code",
   "execution_count": 88,
   "metadata": {
    "collapsed": false
   },
   "outputs": [],
   "source": [
    "from IPython.display import Audio, display"
   ]
  },
  {
   "cell_type": "code",
   "execution_count": null,
   "metadata": {
    "collapsed": false
   },
   "outputs": [],
   "source": [
    "display(Audio(wav_pathname))"
   ]
  }
 ],
 "metadata": {
  "colab": {
   "provenance": []
  },
  "kernelspec": {
   "display_name": "Python 3",
   "name": "python3"
  },
  "language_info": {
   "name": "python"
  }
 },
 "nbformat": 4,
 "nbformat_minor": 0
}
